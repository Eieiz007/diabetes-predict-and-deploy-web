{
 "cells": [
  {
   "cell_type": "code",
   "execution_count": 1,
   "metadata": {},
   "outputs": [],
   "source": [
    "# https://www.kaggle.com/datasets/mathchi/diabetes-data-set\n",
    "# Diabetes Dataset \n",
    "# Number of times pregnant จำนวนครั้งที่ตั้งครรภ์ \n",
    "# Plasma glucose ความเข้มข้นของกลูโคสในช่องปาก ตัดเลข 0\n",
    "# Diastolic blood pressure ความดันโลหิต ตัดเลข 0\n",
    "# Triceps skin fold thickness ความหนาไขมันผิวหนัง ตัดเลข 0\n",
    "# 2-Hour serum insulin (Mu U/ml) ความเข้มข้นของอินซูลิน หลังฉีดไป 2 ชม. ตัดเลข 0\n",
    "# BMI ดัชนีมวลกาย ตัดเลข 0\n",
    "# Diabetes pedigree function ความเสี่ยงโรคเบาหวานที่มาจาก พันธุกรรม\n",
    "# Age อายุ\n",
    "# outcome เป็น และ ไม่เป็น \n",
    "# https://www.youtube.com/watch?v=RaN8tyledJ4\n",
    "# https://www.youtube.com/watch?v=E0gaPgiISoU&list=PL-QRwhZe4lltkA6KaWkSYMrl63YaFEeLz&index=1"
   ]
  },
  {
   "cell_type": "code",
   "execution_count": 1,
   "metadata": {},
   "outputs": [
    {
     "data": {
      "text/html": [
       "<div>\n",
       "<style scoped>\n",
       "    .dataframe tbody tr th:only-of-type {\n",
       "        vertical-align: middle;\n",
       "    }\n",
       "\n",
       "    .dataframe tbody tr th {\n",
       "        vertical-align: top;\n",
       "    }\n",
       "\n",
       "    .dataframe thead th {\n",
       "        text-align: right;\n",
       "    }\n",
       "</style>\n",
       "<table border=\"1\" class=\"dataframe\">\n",
       "  <thead>\n",
       "    <tr style=\"text-align: right;\">\n",
       "      <th></th>\n",
       "      <th>Pregnancies</th>\n",
       "      <th>Glucose</th>\n",
       "      <th>BloodPressure</th>\n",
       "      <th>SkinThickness</th>\n",
       "      <th>Insulin</th>\n",
       "      <th>BMI</th>\n",
       "      <th>DiabetesPedigreeFunction</th>\n",
       "      <th>Age</th>\n",
       "      <th>Outcome</th>\n",
       "    </tr>\n",
       "  </thead>\n",
       "  <tbody>\n",
       "    <tr>\n",
       "      <th>0</th>\n",
       "      <td>6</td>\n",
       "      <td>148</td>\n",
       "      <td>72</td>\n",
       "      <td>35</td>\n",
       "      <td>0</td>\n",
       "      <td>33.6</td>\n",
       "      <td>0.627</td>\n",
       "      <td>50</td>\n",
       "      <td>1</td>\n",
       "    </tr>\n",
       "    <tr>\n",
       "      <th>1</th>\n",
       "      <td>1</td>\n",
       "      <td>85</td>\n",
       "      <td>66</td>\n",
       "      <td>29</td>\n",
       "      <td>0</td>\n",
       "      <td>26.6</td>\n",
       "      <td>0.351</td>\n",
       "      <td>31</td>\n",
       "      <td>0</td>\n",
       "    </tr>\n",
       "    <tr>\n",
       "      <th>2</th>\n",
       "      <td>8</td>\n",
       "      <td>183</td>\n",
       "      <td>64</td>\n",
       "      <td>0</td>\n",
       "      <td>0</td>\n",
       "      <td>23.3</td>\n",
       "      <td>0.672</td>\n",
       "      <td>32</td>\n",
       "      <td>1</td>\n",
       "    </tr>\n",
       "    <tr>\n",
       "      <th>3</th>\n",
       "      <td>1</td>\n",
       "      <td>89</td>\n",
       "      <td>66</td>\n",
       "      <td>23</td>\n",
       "      <td>94</td>\n",
       "      <td>28.1</td>\n",
       "      <td>0.167</td>\n",
       "      <td>21</td>\n",
       "      <td>0</td>\n",
       "    </tr>\n",
       "    <tr>\n",
       "      <th>4</th>\n",
       "      <td>0</td>\n",
       "      <td>137</td>\n",
       "      <td>40</td>\n",
       "      <td>35</td>\n",
       "      <td>168</td>\n",
       "      <td>43.1</td>\n",
       "      <td>2.288</td>\n",
       "      <td>33</td>\n",
       "      <td>1</td>\n",
       "    </tr>\n",
       "  </tbody>\n",
       "</table>\n",
       "</div>"
      ],
      "text/plain": [
       "   Pregnancies  Glucose  BloodPressure  SkinThickness  Insulin   BMI  \\\n",
       "0            6      148             72             35        0  33.6   \n",
       "1            1       85             66             29        0  26.6   \n",
       "2            8      183             64              0        0  23.3   \n",
       "3            1       89             66             23       94  28.1   \n",
       "4            0      137             40             35      168  43.1   \n",
       "\n",
       "   DiabetesPedigreeFunction  Age  Outcome  \n",
       "0                     0.627   50        1  \n",
       "1                     0.351   31        0  \n",
       "2                     0.672   32        1  \n",
       "3                     0.167   21        0  \n",
       "4                     2.288   33        1  "
      ]
     },
     "execution_count": 1,
     "metadata": {},
     "output_type": "execute_result"
    }
   ],
   "source": [
    "import pandas as pd\n",
    "import matplotlib.pyplot as plt\n",
    "import seaborn as sns\n",
    "import numpy as np\n",
    "df = pd.read_csv(\"diabetes.csv\")\n",
    "df.head()"
   ]
  },
  {
   "cell_type": "code",
   "execution_count": 2,
   "metadata": {},
   "outputs": [
    {
     "name": "stdout",
     "output_type": "stream",
     "text": [
      "<class 'pandas.core.frame.DataFrame'>\n",
      "RangeIndex: 768 entries, 0 to 767\n",
      "Data columns (total 9 columns):\n",
      " #   Column                    Non-Null Count  Dtype  \n",
      "---  ------                    --------------  -----  \n",
      " 0   Pregnancies               768 non-null    int64  \n",
      " 1   Glucose                   768 non-null    int64  \n",
      " 2   BloodPressure             768 non-null    int64  \n",
      " 3   SkinThickness             768 non-null    int64  \n",
      " 4   Insulin                   768 non-null    int64  \n",
      " 5   BMI                       768 non-null    float64\n",
      " 6   DiabetesPedigreeFunction  768 non-null    float64\n",
      " 7   Age                       768 non-null    int64  \n",
      " 8   Outcome                   768 non-null    int64  \n",
      "dtypes: float64(2), int64(7)\n",
      "memory usage: 54.1 KB\n"
     ]
    }
   ],
   "source": [
    "df.info()"
   ]
  },
  {
   "cell_type": "code",
   "execution_count": 3,
   "metadata": {},
   "outputs": [
    {
     "data": {
      "text/plain": [
       "(768, 9)"
      ]
     },
     "execution_count": 3,
     "metadata": {},
     "output_type": "execute_result"
    }
   ],
   "source": [
    "df.shape"
   ]
  },
  {
   "cell_type": "code",
   "execution_count": 4,
   "metadata": {},
   "outputs": [
    {
     "name": "stdout",
     "output_type": "stream",
     "text": [
      "5\n",
      "35\n",
      "227\n",
      "374\n",
      "11\n"
     ]
    }
   ],
   "source": [
    "#เช็คแต่ละ colum มีค่า 0 กี่ตัว ทำไมถึงทำเพราะว่า เช่น แบบ BMI 0 คือ มันเหมือนเป็น ข้อมูลที่ เหมือนกับ ค่า NaN\n",
    " \n",
    "print(df[df['Glucose'] == 0].shape[0])\n",
    "print(df[df['BloodPressure'] == 0].shape[0])\n",
    "print(df[df['SkinThickness'] == 0].shape[0])\n",
    "print(df[df['Insulin'] == 0].shape[0])\n",
    "print(df[df['BMI'] == 0].shape[0])"
   ]
  },
  {
   "cell_type": "code",
   "execution_count": 5,
   "metadata": {},
   "outputs": [],
   "source": [
    "#เอาา ค่าเฉลี่ยไปเติม แทน เลข 0\n",
    "#ทำไมถึง แทนที่จะตัดออกไปเลย ทำไมถึงเอา ค่าเฉลี่ยมาแทน\n",
    "#ตอบ เพราะว่า ดูจาก ด้านบน เลข 0 เยอะมาก ซึ่ง มันมีแค่ 700 กว่า Row เอง แต่ เลข 0 ที่มีมัน 500+แล้ว ถ้าตัดข้อมูลคือ น้อยมาก\n",
    "df[\"Glucose\"] = df['Glucose'].replace(0,df[\"Glucose\"].mean())\n",
    "df[\"BloodPressure\"] = df['BloodPressure'].replace(0,df[\"BloodPressure\"].mean())\n",
    "df[\"SkinThickness\"] = df['SkinThickness'].replace(0,df[\"SkinThickness\"].mean())\n",
    "df[\"Insulin\"] = df['Insulin'].replace(0,df[\"Insulin\"].mean())\n",
    "df[\"BMI\"] = df['BMI'].replace(0,df[\"BMI\"].mean())"
   ]
  },
  {
   "cell_type": "code",
   "execution_count": 6,
   "metadata": {},
   "outputs": [
    {
     "name": "stdout",
     "output_type": "stream",
     "text": [
      "0\n",
      "0\n",
      "0\n",
      "0\n",
      "0\n"
     ]
    }
   ],
   "source": [
    "print(df[df['Glucose'] == 0].shape[0])\n",
    "print(df[df['BloodPressure'] == 0].shape[0])\n",
    "print(df[df['SkinThickness'] == 0].shape[0])\n",
    "print(df[df['Insulin'] == 0].shape[0])\n",
    "print(df[df['BMI'] == 0].shape[0])"
   ]
  },
  {
   "cell_type": "code",
   "execution_count": 7,
   "metadata": {},
   "outputs": [
    {
     "data": {
      "text/plain": [
       "0    500\n",
       "1    268\n",
       "Name: Outcome, dtype: int64"
      ]
     },
     "execution_count": 7,
     "metadata": {},
     "output_type": "execute_result"
    },
    {
     "data": {
      "image/png": "[encoded data removed]",
      "text/plain": [
       "<Figure size 432x288 with 1 Axes>"
      ]
     },
     "metadata": {},
     "output_type": "display_data"
    }
   ],
   "source": [
    "#ดู ข้อมูลว่า เป็นเบาหวาน กี่คน ไม่เป็นกี่คน เพื่อดูว่า ข้อมูลชุดนี้มันจะ ทำนายได้จริงๆใช่มั้ย หรือมีข้อมูลเพียงพอรึเปล่า\n",
    "# ถ้า common เซน คิดว่า 40 60 กำลังสวย ถ้า 50 50 มันอาจจะทำนายยาก \n",
    "df[\"Outcome\"].value_counts().plot(kind=\"pie\",autopct='%1.0f%%',shadow=True,explode=[0,0.2])\n",
    "df[\"Outcome\"].value_counts()"
   ]
  },
  {
   "cell_type": "code",
   "execution_count": 8,
   "metadata": {},
   "outputs": [],
   "source": [
    "#ดูว่า จะใช้ model อะไร \n",
    "# sns.pairplot(data=df,hue=\"Outcome\")"
   ]
  },
  {
   "cell_type": "code",
   "execution_count": 9,
   "metadata": {},
   "outputs": [
    {
     "data": {
      "text/plain": [
       "<matplotlib.lines.Line2D at 0x205ab848ee0>"
      ]
     },
     "execution_count": 9,
     "metadata": {},
     "output_type": "execute_result"
    },
    {
     "data": {
      "image/png": "[encoded data removed]",
      "text/plain": [
       "<Figure size 720x720 with 2 Axes>"
      ]
     },
     "metadata": {
      "needs_background": "light"
     },
     "output_type": "display_data"
    },
    {
     "data": {
      "image/png": "[encoded data removed]",
      "text/plain": [
       "<Figure size 432x288 with 1 Axes>"
      ]
     },
     "metadata": {
      "needs_background": "light"
     },
     "output_type": "display_data"
    }
   ],
   "source": [
    "# df[df.columns] ดูความสัมพัน ระหว่าง เป็น กับ ไม่เป็น ว่า ฟรีเจอไหน มันเกี่ยวข้องสูง\n",
    "# Filter Method คือการ ดูความสัมพันธ์ ของ ฟีเจอร์ โดยเราจะยึด ฟีเจอร์ที่เป็นเฉลย แล้วดูว่า มีฟีเจอร์ไหนบ้างที่มีความสัมพันธ์ความฟีเจอร์เฉลยมาก\n",
    "plt.figure(figsize = (10,10))\n",
    "sns.heatmap(df.corr(),annot=True,cmap=\"YlGn\")\n",
    "corr2 = df.corr().T[[\"Outcome\"]].sort_values(\"Outcome\",ascending=False)\n",
    "corr2.plot(kind=\"barh\") # >= 0.2\n",
    "plt.axvline(0.2,color=\"salmon\",linestyle=\"--\")"
   ]
  },
  {
   "cell_type": "code",
   "execution_count": 10,
   "metadata": {},
   "outputs": [],
   "source": [
    "df.columns\n",
    "cols = ['Pregnancies', 'Glucose', 'BloodPressure', 'SkinThickness', 'Insulin',\n",
    "       'BMI', 'DiabetesPedigreeFunction', 'Age',]\n",
    "cols_important = [\"Glucose\",\"BMI\",\"Age\",\"Pregnancies\"]\n",
    "# cols_important = [\"Glucose\",\"BMI\",\"Age\",\"Pregnancies\",\"Insulin\"]\n",
    "# cols_important = [\"Glucose\",\"BMI\",\"Age\"]\n",
    "# cols_important = [\"Glucose\",\"BMI\"]\n",
    "# Glucose\t    0.492908 > .2\n",
    "# BMI\t        0.312254\n",
    "# Age\t        0.238356\n",
    "# Pregnancies\t0.221898   \n",
    "   \n",
    "# x = df[cols]\n",
    "x = df[cols_important]\n",
    "y = df[\"Outcome\"]\n"
   ]
  },
  {
   "cell_type": "code",
   "execution_count": 11,
   "metadata": {},
   "outputs": [
    {
     "data": {
      "text/html": [
       "<div>\n",
       "<style scoped>\n",
       "    .dataframe tbody tr th:only-of-type {\n",
       "        vertical-align: middle;\n",
       "    }\n",
       "\n",
       "    .dataframe tbody tr th {\n",
       "        vertical-align: top;\n",
       "    }\n",
       "\n",
       "    .dataframe thead th {\n",
       "        text-align: right;\n",
       "    }\n",
       "</style>\n",
       "<table border=\"1\" class=\"dataframe\">\n",
       "  <thead>\n",
       "    <tr style=\"text-align: right;\">\n",
       "      <th></th>\n",
       "      <th>Glucose</th>\n",
       "      <th>BMI</th>\n",
       "      <th>Age</th>\n",
       "      <th>Pregnancies</th>\n",
       "    </tr>\n",
       "  </thead>\n",
       "  <tbody>\n",
       "    <tr>\n",
       "      <th>0</th>\n",
       "      <td>0.865276</td>\n",
       "      <td>0.167255</td>\n",
       "      <td>1.425995</td>\n",
       "      <td>0.639947</td>\n",
       "    </tr>\n",
       "    <tr>\n",
       "      <th>1</th>\n",
       "      <td>-1.205989</td>\n",
       "      <td>-0.851535</td>\n",
       "      <td>-0.190672</td>\n",
       "      <td>-0.844885</td>\n",
       "    </tr>\n",
       "    <tr>\n",
       "      <th>2</th>\n",
       "      <td>2.015979</td>\n",
       "      <td>-1.331821</td>\n",
       "      <td>-0.105584</td>\n",
       "      <td>1.233880</td>\n",
       "    </tr>\n",
       "    <tr>\n",
       "      <th>3</th>\n",
       "      <td>-1.074480</td>\n",
       "      <td>-0.633222</td>\n",
       "      <td>-1.041549</td>\n",
       "      <td>-0.844885</td>\n",
       "    </tr>\n",
       "    <tr>\n",
       "      <th>4</th>\n",
       "      <td>0.503626</td>\n",
       "      <td>1.549899</td>\n",
       "      <td>-0.020496</td>\n",
       "      <td>-1.141852</td>\n",
       "    </tr>\n",
       "    <tr>\n",
       "      <th>...</th>\n",
       "      <td>...</td>\n",
       "      <td>...</td>\n",
       "      <td>...</td>\n",
       "      <td>...</td>\n",
       "    </tr>\n",
       "    <tr>\n",
       "      <th>763</th>\n",
       "      <td>-0.679954</td>\n",
       "      <td>0.065376</td>\n",
       "      <td>2.532136</td>\n",
       "      <td>1.827813</td>\n",
       "    </tr>\n",
       "    <tr>\n",
       "      <th>764</th>\n",
       "      <td>0.010468</td>\n",
       "      <td>0.632988</td>\n",
       "      <td>-0.531023</td>\n",
       "      <td>-0.547919</td>\n",
       "    </tr>\n",
       "    <tr>\n",
       "      <th>765</th>\n",
       "      <td>-0.022409</td>\n",
       "      <td>-0.909751</td>\n",
       "      <td>-0.275760</td>\n",
       "      <td>0.342981</td>\n",
       "    </tr>\n",
       "    <tr>\n",
       "      <th>766</th>\n",
       "      <td>0.141977</td>\n",
       "      <td>-0.342140</td>\n",
       "      <td>1.170732</td>\n",
       "      <td>-0.844885</td>\n",
       "    </tr>\n",
       "    <tr>\n",
       "      <th>767</th>\n",
       "      <td>-0.942972</td>\n",
       "      <td>-0.298477</td>\n",
       "      <td>-0.871374</td>\n",
       "      <td>-0.844885</td>\n",
       "    </tr>\n",
       "  </tbody>\n",
       "</table>\n",
       "<p>768 rows × 4 columns</p>\n",
       "</div>"
      ],
      "text/plain": [
       "      Glucose       BMI       Age  Pregnancies\n",
       "0    0.865276  0.167255  1.425995     0.639947\n",
       "1   -1.205989 -0.851535 -0.190672    -0.844885\n",
       "2    2.015979 -1.331821 -0.105584     1.233880\n",
       "3   -1.074480 -0.633222 -1.041549    -0.844885\n",
       "4    0.503626  1.549899 -0.020496    -1.141852\n",
       "..        ...       ...       ...          ...\n",
       "763 -0.679954  0.065376  2.532136     1.827813\n",
       "764  0.010468  0.632988 -0.531023    -0.547919\n",
       "765 -0.022409 -0.909751 -0.275760     0.342981\n",
       "766  0.141977 -0.342140  1.170732    -0.844885\n",
       "767 -0.942972 -0.298477 -0.871374    -0.844885\n",
       "\n",
       "[768 rows x 4 columns]"
      ]
     },
     "execution_count": 11,
     "metadata": {},
     "output_type": "execute_result"
    }
   ],
   "source": [
    "from sklearn.preprocessing import StandardScaler\n",
    "z = StandardScaler()\n",
    "z.fit(x)\n",
    "zz = z.fit_transform(x)\n",
    "dz = pd.DataFrame(zz,columns=cols_important)\n",
    "# dz = pd.DataFrame(zz,columns=cols)\n",
    "xz = dz[cols_important]\n",
    "# xz = dz[cols]\n",
    "yz = df[\"Outcome\"]\n",
    "dz"
   ]
  },
  {
   "cell_type": "code",
   "execution_count": 12,
   "metadata": {},
   "outputs": [
    {
     "data": {
      "image/png": "[encoded data removed]",
      "text/plain": [
       "<Figure size 1728x252 with 8 Axes>"
      ]
     },
     "metadata": {
      "needs_background": "light"
     },
     "output_type": "display_data"
    }
   ],
   "source": [
    "# df[cols_important].hist(layout=(1,len(cols)),figsize=(3*len(cols),3.5));\n",
    "df[cols].hist(layout=(1,len(cols)),figsize=(3*len(cols),3.5));"
   ]
  },
  {
   "cell_type": "code",
   "execution_count": 13,
   "metadata": {},
   "outputs": [
    {
     "ename": "KeyError",
     "evalue": "\"['BloodPressure', 'SkinThickness', 'Insulin', 'DiabetesPedigreeFunction'] not in index\"",
     "output_type": "error",
     "traceback": [
      "\u001b[1;31m---------------------------------------------------------------------------\u001b[0m",
      "\u001b[1;31mKeyError\u001b[0m                                  Traceback (most recent call last)",
      "\u001b[1;32md:\\New\\project2\\Diabetes.ipynb Cell 14\u001b[0m in \u001b[0;36m<cell line: 2>\u001b[1;34m()\u001b[0m\n\u001b[0;32m      <a href='vscode-notebook-cell:/d%3A/New/project2/Diabetes.ipynb#ch0000013?line=0'>1</a>\u001b[0m \u001b[39m# dz[cols_important].hist(layout=(1,len(cols)),figsize=(3*len(cols),3.5),color=\"red\");\u001b[39;00m\n\u001b[1;32m----> <a href='vscode-notebook-cell:/d%3A/New/project2/Diabetes.ipynb#ch0000013?line=1'>2</a>\u001b[0m dz[cols]\u001b[39m.\u001b[39mhist(layout\u001b[39m=\u001b[39m(\u001b[39m1\u001b[39m,\u001b[39mlen\u001b[39m(cols)),figsize\u001b[39m=\u001b[39m(\u001b[39m3\u001b[39m\u001b[39m*\u001b[39m\u001b[39mlen\u001b[39m(cols),\u001b[39m3.5\u001b[39m),color\u001b[39m=\u001b[39m\u001b[39m\"\u001b[39m\u001b[39mred\u001b[39m\u001b[39m\"\u001b[39m)\n",
      "File \u001b[1;32mc:\\Users\\Skril\\AppData\\Local\\Programs\\Python\\Python39\\lib\\site-packages\\pandas\\core\\frame.py:3511\u001b[0m, in \u001b[0;36mDataFrame.__getitem__\u001b[1;34m(self, key)\u001b[0m\n\u001b[0;32m   3509\u001b[0m     \u001b[39mif\u001b[39;00m is_iterator(key):\n\u001b[0;32m   3510\u001b[0m         key \u001b[39m=\u001b[39m \u001b[39mlist\u001b[39m(key)\n\u001b[1;32m-> 3511\u001b[0m     indexer \u001b[39m=\u001b[39m \u001b[39mself\u001b[39;49m\u001b[39m.\u001b[39;49mcolumns\u001b[39m.\u001b[39;49m_get_indexer_strict(key, \u001b[39m\"\u001b[39;49m\u001b[39mcolumns\u001b[39;49m\u001b[39m\"\u001b[39;49m)[\u001b[39m1\u001b[39m]\n\u001b[0;32m   3513\u001b[0m \u001b[39m# take() does not accept boolean indexers\u001b[39;00m\n\u001b[0;32m   3514\u001b[0m \u001b[39mif\u001b[39;00m \u001b[39mgetattr\u001b[39m(indexer, \u001b[39m\"\u001b[39m\u001b[39mdtype\u001b[39m\u001b[39m\"\u001b[39m, \u001b[39mNone\u001b[39;00m) \u001b[39m==\u001b[39m \u001b[39mbool\u001b[39m:\n",
      "File \u001b[1;32mc:\\Users\\Skril\\AppData\\Local\\Programs\\Python\\Python39\\lib\\site-packages\\pandas\\core\\indexes\\base.py:5782\u001b[0m, in \u001b[0;36mIndex._get_indexer_strict\u001b[1;34m(self, key, axis_name)\u001b[0m\n\u001b[0;32m   5779\u001b[0m \u001b[39melse\u001b[39;00m:\n\u001b[0;32m   5780\u001b[0m     keyarr, indexer, new_indexer \u001b[39m=\u001b[39m \u001b[39mself\u001b[39m\u001b[39m.\u001b[39m_reindex_non_unique(keyarr)\n\u001b[1;32m-> 5782\u001b[0m \u001b[39mself\u001b[39;49m\u001b[39m.\u001b[39;49m_raise_if_missing(keyarr, indexer, axis_name)\n\u001b[0;32m   5784\u001b[0m keyarr \u001b[39m=\u001b[39m \u001b[39mself\u001b[39m\u001b[39m.\u001b[39mtake(indexer)\n\u001b[0;32m   5785\u001b[0m \u001b[39mif\u001b[39;00m \u001b[39misinstance\u001b[39m(key, Index):\n\u001b[0;32m   5786\u001b[0m     \u001b[39m# GH 42790 - Preserve name from an Index\u001b[39;00m\n",
      "File \u001b[1;32mc:\\Users\\Skril\\AppData\\Local\\Programs\\Python\\Python39\\lib\\site-packages\\pandas\\core\\indexes\\base.py:5845\u001b[0m, in \u001b[0;36mIndex._raise_if_missing\u001b[1;34m(self, key, indexer, axis_name)\u001b[0m\n\u001b[0;32m   5842\u001b[0m     \u001b[39mraise\u001b[39;00m \u001b[39mKeyError\u001b[39;00m(\u001b[39mf\u001b[39m\u001b[39m\"\u001b[39m\u001b[39mNone of [\u001b[39m\u001b[39m{\u001b[39;00mkey\u001b[39m}\u001b[39;00m\u001b[39m] are in the [\u001b[39m\u001b[39m{\u001b[39;00maxis_name\u001b[39m}\u001b[39;00m\u001b[39m]\u001b[39m\u001b[39m\"\u001b[39m)\n\u001b[0;32m   5844\u001b[0m not_found \u001b[39m=\u001b[39m \u001b[39mlist\u001b[39m(ensure_index(key)[missing_mask\u001b[39m.\u001b[39mnonzero()[\u001b[39m0\u001b[39m]]\u001b[39m.\u001b[39munique())\n\u001b[1;32m-> 5845\u001b[0m \u001b[39mraise\u001b[39;00m \u001b[39mKeyError\u001b[39;00m(\u001b[39mf\u001b[39m\u001b[39m\"\u001b[39m\u001b[39m{\u001b[39;00mnot_found\u001b[39m}\u001b[39;00m\u001b[39m not in index\u001b[39m\u001b[39m\"\u001b[39m)\n",
      "\u001b[1;31mKeyError\u001b[0m: \"['BloodPressure', 'SkinThickness', 'Insulin', 'DiabetesPedigreeFunction'] not in index\""
     ]
    }
   ],
   "source": [
    "# dz[cols_important].hist(layout=(1,len(cols)),figsize=(3*len(cols),3.5),color=\"red\");\n",
    "dz[cols].hist(layout=(1,len(cols)),figsize=(3*len(cols),3.5),color=\"red\");"
   ]
  },
  {
   "cell_type": "code",
   "execution_count": 21,
   "metadata": {},
   "outputs": [],
   "source": [
    "from sklearn.model_selection import train_test_split\n",
    "x_train , x_test , y_train , y_test = train_test_split(zz,y,test_size=0.2,random_state=7)\n",
    "# แบ่งข้อมูลสำคัญเหมือนกัน ป้องกัน overfitting เพราะว่า เวลามันเจอ ข้อมูลใหม่ที่ไม่ใช่ข้อมูล train มันก็ทำนายผิด เพราะว่ามันชินกับตัวของ train"
   ]
  },
  {
   "cell_type": "markdown",
   "metadata": {},
   "source": [
    "## หา model ที่ดีที่สุด \n"
   ]
  },
  {
   "cell_type": "code",
   "execution_count": 22,
   "metadata": {},
   "outputs": [],
   "source": [
    "from sklearn.linear_model import LogisticRegression\n",
    "from sklearn.neighbors import KNeighborsClassifier\n",
    "from sklearn.naive_bayes import GaussianNB\n",
    "from sklearn.svm import SVC\n",
    "from sklearn.neural_network import MLPClassifier\n",
    "from sklearn.tree import DecisionTreeClassifier\n",
    "from sklearn.ensemble import RandomForestClassifier\n",
    "\n",
    "from sklearn import metrics"
   ]
  },
  {
   "cell_type": "code",
   "execution_count": 23,
   "metadata": {},
   "outputs": [],
   "source": [
    "LKG = [\n",
    "    [LogisticRegression(solver=\"liblinear\",multi_class=\"ovr\"),\"LogisticRegression\"]\n",
    "    ,[KNeighborsClassifier(n_neighbors=3),\"KNeighborsClassifier k = 3\"]\n",
    "    ,[KNeighborsClassifier(n_neighbors=5),\"KNeighborsClassifier k = 5\"]\n",
    "    ,[GaussianNB(),\"naive_bayes\"]\n",
    "    ,[SVC(),\"SVC\"]\n",
    "    # ,[RandomForestClassifier(n_estimators=250),\"RandomForestClassifier\"]\n",
    "]"
   ]
  },
  {
   "cell_type": "code",
   "execution_count": 24,
   "metadata": {},
   "outputs": [
    {
     "name": "stdout",
     "output_type": "stream",
     "text": [
      "Model : LogisticRegression , Accuracy : 0.7857142857142857\n",
      "Data ไม่เป็นโรคเบาหวาน : 97 คน | เป็นโรคเบาหวาน : 57 คน\n",
      "TN = เปรียบเทียบระหว่างข้อมูลจริงกับข้อมูลทำนายว่า ไม่เป็นโรคเบาหวาน 86 คน\n",
      "TP = เปรียบเทียบระหว่างข้อมูลจริงกับข้อมูลทำนายว่า เป็นโรคเบาหวาน 35 คน\n",
      "FN = ข้อมูลจริงเป็นโรคเบาหวานแต่โมเดลทำนายไม่เป็นเบาหวาน 11 คน\n",
      "FP = ข้อมูลจริงไม่เป็นโรคเบาหวานแต่โมเดลทำนายเป็นเบาหวาน 22 คน\n"
     ]
    },
    {
     "data": {
      "image/png": "[encoded data removed]",
      "text/plain": [
       "<Figure size 432x288 with 2 Axes>"
      ]
     },
     "metadata": {
      "needs_background": "light"
     },
     "output_type": "display_data"
    },
    {
     "name": "stdout",
     "output_type": "stream",
     "text": [
      "----------------------------------------------------------------------------------------------------\n",
      "Model : KNeighborsClassifier k = 3 , Accuracy : 0.7727272727272727\n",
      "Data ไม่เป็นโรคเบาหวาน : 97 คน | เป็นโรคเบาหวาน : 57 คน\n",
      "TN = เปรียบเทียบระหว่างข้อมูลจริงกับข้อมูลทำนายว่า ไม่เป็นโรคเบาหวาน 82 คน\n",
      "TP = เปรียบเทียบระหว่างข้อมูลจริงกับข้อมูลทำนายว่า เป็นโรคเบาหวาน 37 คน\n",
      "FN = ข้อมูลจริงเป็นโรคเบาหวานแต่โมเดลทำนายไม่เป็นเบาหวาน 15 คน\n",
      "FP = ข้อมูลจริงไม่เป็นโรคเบาหวานแต่โมเดลทำนายเป็นเบาหวาน 20 คน\n"
     ]
    },
    {
     "data": {
      "image/png": "[encoded data removed]",
      "text/plain": [
       "<Figure size 432x288 with 2 Axes>"
      ]
     },
     "metadata": {
      "needs_background": "light"
     },
     "output_type": "display_data"
    },
    {
     "name": "stdout",
     "output_type": "stream",
     "text": [
      "----------------------------------------------------------------------------------------------------\n",
      "Model : KNeighborsClassifier k = 5 , Accuracy : 0.7857142857142857\n",
      "Data ไม่เป็นโรคเบาหวาน : 97 คน | เป็นโรคเบาหวาน : 57 คน\n",
      "TN = เปรียบเทียบระหว่างข้อมูลจริงกับข้อมูลทำนายว่า ไม่เป็นโรคเบาหวาน 81 คน\n",
      "TP = เปรียบเทียบระหว่างข้อมูลจริงกับข้อมูลทำนายว่า เป็นโรคเบาหวาน 40 คน\n",
      "FN = ข้อมูลจริงเป็นโรคเบาหวานแต่โมเดลทำนายไม่เป็นเบาหวาน 16 คน\n",
      "FP = ข้อมูลจริงไม่เป็นโรคเบาหวานแต่โมเดลทำนายเป็นเบาหวาน 17 คน\n"
     ]
    },
    {
     "data": {
      "image/png": "[encoded data removed]",
      "text/plain": [
       "<Figure size 432x288 with 2 Axes>"
      ]
     },
     "metadata": {
      "needs_background": "light"
     },
     "output_type": "display_data"
    },
    {
     "name": "stdout",
     "output_type": "stream",
     "text": [
      "----------------------------------------------------------------------------------------------------\n",
      "Model : naive_bayes , Accuracy : 0.7792207792207793\n",
      "Data ไม่เป็นโรคเบาหวาน : 97 คน | เป็นโรคเบาหวาน : 57 คน\n",
      "TN = เปรียบเทียบระหว่างข้อมูลจริงกับข้อมูลทำนายว่า ไม่เป็นโรคเบาหวาน 82 คน\n",
      "TP = เปรียบเทียบระหว่างข้อมูลจริงกับข้อมูลทำนายว่า เป็นโรคเบาหวาน 38 คน\n",
      "FN = ข้อมูลจริงเป็นโรคเบาหวานแต่โมเดลทำนายไม่เป็นเบาหวาน 15 คน\n",
      "FP = ข้อมูลจริงไม่เป็นโรคเบาหวานแต่โมเดลทำนายเป็นเบาหวาน 19 คน\n"
     ]
    },
    {
     "data": {
      "image/png": "[encoded data removed]",
      "text/plain": [
       "<Figure size 432x288 with 2 Axes>"
      ]
     },
     "metadata": {
      "needs_background": "light"
     },
     "output_type": "display_data"
    },
    {
     "name": "stdout",
     "output_type": "stream",
     "text": [
      "----------------------------------------------------------------------------------------------------\n",
      "Model : SVC , Accuracy : 0.7922077922077922\n",
      "Data ไม่เป็นโรคเบาหวาน : 97 คน | เป็นโรคเบาหวาน : 57 คน\n",
      "TN = เปรียบเทียบระหว่างข้อมูลจริงกับข้อมูลทำนายว่า ไม่เป็นโรคเบาหวาน 86 คน\n",
      "TP = เปรียบเทียบระหว่างข้อมูลจริงกับข้อมูลทำนายว่า เป็นโรคเบาหวาน 36 คน\n",
      "FN = ข้อมูลจริงเป็นโรคเบาหวานแต่โมเดลทำนายไม่เป็นเบาหวาน 11 คน\n",
      "FP = ข้อมูลจริงไม่เป็นโรคเบาหวานแต่โมเดลทำนายเป็นเบาหวาน 21 คน\n"
     ]
    },
    {
     "data": {
      "image/png": "[encoded data removed]",
      "text/plain": [
       "<Figure size 432x288 with 2 Axes>"
      ]
     },
     "metadata": {
      "needs_background": "light"
     },
     "output_type": "display_data"
    },
    {
     "name": "stdout",
     "output_type": "stream",
     "text": [
      "----------------------------------------------------------------------------------------------------\n"
     ]
    }
   ],
   "source": [
    "score_train = []\n",
    "score_test = []\n",
    "score_test_train_name = []\n",
    "accuracy_score = []\n",
    "for al in LKG:\n",
    "    model = al[0]\n",
    "    model.fit(x_train,y_train)\n",
    "    p = model.predict(x_test)\n",
    "    score_train.append(model.score(x_train,y_train))\n",
    "    score_test.append(model.score(x_test,y_test))\n",
    "    score_test_train_name.append([al[1],model.score(x_test,y_test),model.score(x_train,y_train)])\n",
    "    print(\"Model : {} , Accuracy : {}\".format(al[1],model.score(x_test,y_test)))\n",
    "    a , b = y_test.value_counts()\n",
    "    print(f\"Data ไม่เป็นโรคเบาหวาน : {a} คน | เป็นโรคเบาหวาน : {b} คน\")\n",
    "    cm = metrics.confusion_matrix(p,y_test)\n",
    "    TN ,FP ,FN ,TP = cm[0,0] , cm[0,1] , cm[1,0] , cm[1,1]\n",
    "    print(f\"TN = เปรียบเทียบระหว่างข้อมูลจริงกับข้อมูลทำนายว่า ไม่เป็นโรคเบาหวาน {TN} คน\") #ยิ่งเข้าใกล้ข้อมูลทั้งหมดยิ่งดี\n",
    "    print(f\"TP = เปรียบเทียบระหว่างข้อมูลจริงกับข้อมูลทำนายว่า เป็นโรคเบาหวาน {TP} คน\")  #ยิ่งเข้าใกล้ข้อมูลทั้งหมดยิ่งดี\n",
    "    print(f\"FN = ข้อมูลจริงเป็นโรคเบาหวานแต่โมเดลทำนายไม่เป็นเบาหวาน {FN} คน\")  #ยิ่งน้อยยิ่งดี 0 คือดีเลย \n",
    "    print(f\"FP = ข้อมูลจริงไม่เป็นโรคเบาหวานแต่โมเดลทำนายเป็นเบาหวาน {FP} คน\")  #ยิ่งน้อยยิ่งดี\n",
    "    # accuracy_score.append(metrics.accuracy_score(x_test,p))\n",
    "    # print(metrics.confusion_matrix(p,y_test))\n",
    "    # print(metrics.classification_report(p,y_test))\n",
    "    sns.heatmap(cm,annot=True,cmap=\"Blues\")\n",
    "    plt.show()\n",
    "    print(\"-\"*100)\n",
    "\n",
    "\n",
    "    "
   ]
  },
  {
   "cell_type": "code",
   "execution_count": 25,
   "metadata": {},
   "outputs": [
    {
     "data": {
      "text/html": [
       "<div>\n",
       "<style scoped>\n",
       "    .dataframe tbody tr th:only-of-type {\n",
       "        vertical-align: middle;\n",
       "    }\n",
       "\n",
       "    .dataframe tbody tr th {\n",
       "        vertical-align: top;\n",
       "    }\n",
       "\n",
       "    .dataframe thead th {\n",
       "        text-align: right;\n",
       "    }\n",
       "</style>\n",
       "<table border=\"1\" class=\"dataframe\">\n",
       "  <thead>\n",
       "    <tr style=\"text-align: right;\">\n",
       "      <th></th>\n",
       "      <th>Model</th>\n",
       "      <th>Score_test</th>\n",
       "      <th>Score_train</th>\n",
       "    </tr>\n",
       "  </thead>\n",
       "  <tbody>\n",
       "    <tr>\n",
       "      <th>4</th>\n",
       "      <td>SVC</td>\n",
       "      <td>0.792208</td>\n",
       "      <td>0.785016</td>\n",
       "    </tr>\n",
       "    <tr>\n",
       "      <th>0</th>\n",
       "      <td>LogisticRegression</td>\n",
       "      <td>0.785714</td>\n",
       "      <td>0.767101</td>\n",
       "    </tr>\n",
       "    <tr>\n",
       "      <th>2</th>\n",
       "      <td>KNeighborsClassifier k = 5</td>\n",
       "      <td>0.785714</td>\n",
       "      <td>0.827362</td>\n",
       "    </tr>\n",
       "    <tr>\n",
       "      <th>3</th>\n",
       "      <td>naive_bayes</td>\n",
       "      <td>0.779221</td>\n",
       "      <td>0.760586</td>\n",
       "    </tr>\n",
       "    <tr>\n",
       "      <th>1</th>\n",
       "      <td>KNeighborsClassifier k = 3</td>\n",
       "      <td>0.772727</td>\n",
       "      <td>0.859935</td>\n",
       "    </tr>\n",
       "  </tbody>\n",
       "</table>\n",
       "</div>"
      ],
      "text/plain": [
       "                        Model  Score_test  Score_train\n",
       "4                         SVC    0.792208     0.785016\n",
       "0          LogisticRegression    0.785714     0.767101\n",
       "2  KNeighborsClassifier k = 5    0.785714     0.827362\n",
       "3                 naive_bayes    0.779221     0.760586\n",
       "1  KNeighborsClassifier k = 3    0.772727     0.859935"
      ]
     },
     "execution_count": 25,
     "metadata": {},
     "output_type": "execute_result"
    }
   ],
   "source": [
    "dx = pd.DataFrame(score_test_train_name,columns=[\"Model\",\"Score_test\",\"Score_train\"])\n",
    "dx.sort_values(\"Score_test\",ascending=False)"
   ]
  },
  {
   "cell_type": "code",
   "execution_count": 26,
   "metadata": {},
   "outputs": [],
   "source": [
    "LKG = [\n",
    "    # [LogisticRegression(solver=\"liblinear\",multi_class=\"ovr\"),\"LogisticRegression\"]\n",
    "     [LogisticRegression(),\"LogisticRegression\"]\n",
    "    ,[KNeighborsClassifier(n_neighbors=3),\"KNeighborsClassifier k = 3\"]\n",
    "    ,[KNeighborsClassifier(n_neighbors=5),\"KNeighborsClassifier k = 5\"]\n",
    "    ,[GaussianNB(),\"naive_bayes\"]\n",
    "    ,[SVC(),\"SVC\"]\n",
    "    # ,[MLPClassifier(),\"MLP\"]\n",
    "    ,[RandomForestClassifier(n_estimators=250),\"RandomForestClassifier\"]\n",
    "]"
   ]
  },
  {
   "cell_type": "code",
   "execution_count": 18,
   "metadata": {},
   "outputs": [],
   "source": [
    "#การ cross_val_score ใช้เพื่อ model_secltion เลือกโมเดลที่ดีที่สุด\n",
    "# เราจะกำหนด ค่า k-fold เช่น กำหนดให้ เท่ากับ 3 เจ้าตัวข้อมูล จะแบ่ง 3 ส่วน และมันจะทดลอง 3 ครั้ง"
   ]
  },
  {
   "cell_type": "code",
   "execution_count": 27,
   "metadata": {},
   "outputs": [],
   "source": [
    "from sklearn.model_selection import cross_val_score\n",
    "List_mean_var = []\n",
    "for cs in LKG:\n",
    "    ss = cross_val_score(estimator=cs[0],X=xz,y=yz,cv=10)\n",
    "    List_mean_var.append([cs[1],ss.mean(),ss.var(),])\n"
   ]
  },
  {
   "cell_type": "code",
   "execution_count": 28,
   "metadata": {},
   "outputs": [
    {
     "name": "stdout",
     "output_type": "stream",
     "text": [
      "cross_val_score , cv = 10\n"
     ]
    },
    {
     "data": {
      "text/html": [
       "<div>\n",
       "<style scoped>\n",
       "    .dataframe tbody tr th:only-of-type {\n",
       "        vertical-align: middle;\n",
       "    }\n",
       "\n",
       "    .dataframe tbody tr th {\n",
       "        vertical-align: top;\n",
       "    }\n",
       "\n",
       "    .dataframe thead th {\n",
       "        text-align: right;\n",
       "    }\n",
       "</style>\n",
       "<table border=\"1\" class=\"dataframe\">\n",
       "  <thead>\n",
       "    <tr style=\"text-align: right;\">\n",
       "      <th></th>\n",
       "      <th>Model</th>\n",
       "      <th>Score_mean</th>\n",
       "      <th>Score_var</th>\n",
       "      <th>Score</th>\n",
       "    </tr>\n",
       "  </thead>\n",
       "  <tbody>\n",
       "    <tr>\n",
       "      <th>0</th>\n",
       "      <td>LogisticRegression</td>\n",
       "      <td>0.770865</td>\n",
       "      <td>0.001006</td>\n",
       "      <td>0.769859</td>\n",
       "    </tr>\n",
       "    <tr>\n",
       "      <th>3</th>\n",
       "      <td>naive_bayes</td>\n",
       "      <td>0.760492</td>\n",
       "      <td>0.002370</td>\n",
       "      <td>0.758122</td>\n",
       "    </tr>\n",
       "    <tr>\n",
       "      <th>4</th>\n",
       "      <td>SVC</td>\n",
       "      <td>0.752666</td>\n",
       "      <td>0.001874</td>\n",
       "      <td>0.750791</td>\n",
       "    </tr>\n",
       "    <tr>\n",
       "      <th>5</th>\n",
       "      <td>RandomForestClassifier</td>\n",
       "      <td>0.748616</td>\n",
       "      <td>0.004332</td>\n",
       "      <td>0.744284</td>\n",
       "    </tr>\n",
       "    <tr>\n",
       "      <th>2</th>\n",
       "      <td>KNeighborsClassifier k = 5</td>\n",
       "      <td>0.742139</td>\n",
       "      <td>0.002281</td>\n",
       "      <td>0.739858</td>\n",
       "    </tr>\n",
       "    <tr>\n",
       "      <th>1</th>\n",
       "      <td>KNeighborsClassifier k = 3</td>\n",
       "      <td>0.726504</td>\n",
       "      <td>0.002758</td>\n",
       "      <td>0.723746</td>\n",
       "    </tr>\n",
       "  </tbody>\n",
       "</table>\n",
       "</div>"
      ],
      "text/plain": [
       "                        Model  Score_mean  Score_var     Score\n",
       "0          LogisticRegression    0.770865   0.001006  0.769859\n",
       "3                 naive_bayes    0.760492   0.002370  0.758122\n",
       "4                         SVC    0.752666   0.001874  0.750791\n",
       "5      RandomForestClassifier    0.748616   0.004332  0.744284\n",
       "2  KNeighborsClassifier k = 5    0.742139   0.002281  0.739858\n",
       "1  KNeighborsClassifier k = 3    0.726504   0.002758  0.723746"
      ]
     },
     "execution_count": 28,
     "metadata": {},
     "output_type": "execute_result"
    }
   ],
   "source": [
    "print(\"cross_val_score , cv = 10\")\n",
    "dcs = pd.DataFrame(List_mean_var,columns=[\"Model\",\"Score_mean\",\"Score_var\"])\n",
    "dcs[\"Score\"] = dcs.Score_mean - dcs.Score_var\n",
    "dcs.sort_values(\"Score\",ascending=False)\n"
   ]
  },
  {
   "cell_type": "code",
   "execution_count": 31,
   "metadata": {},
   "outputs": [
    {
     "name": "stderr",
     "output_type": "stream",
     "text": [
      "c:\\Users\\Skril\\AppData\\Local\\Programs\\Python\\Python39\\lib\\site-packages\\sklearn\\base.py:450: UserWarning: X does not have valid feature names, but LogisticRegression was fitted with feature names\n",
      "  warnings.warn(\n"
     ]
    },
    {
     "data": {
      "text/plain": [
       "0.7922077922077922"
      ]
     },
     "execution_count": 31,
     "metadata": {},
     "output_type": "execute_result"
    }
   ],
   "source": [
    "from sklearn.linear_model import LogisticRegression\n",
    "# from sklearn.neural_network import MLPClassifier\n",
    "# model = MLPClassifier()\n",
    "# model = SVC()\n",
    "model = LogisticRegression(solver=\"liblinear\",multi_class=\"ovr\")\n",
    "model.fit(xz,yz)\n",
    "model.score(x_test,y_test)"
   ]
  },
  {
   "cell_type": "code",
   "execution_count": 32,
   "metadata": {},
   "outputs": [
    {
     "name": "stderr",
     "output_type": "stream",
     "text": [
      "c:\\Users\\Skril\\AppData\\Local\\Programs\\Python\\Python39\\lib\\site-packages\\sklearn\\base.py:450: UserWarning: X does not have valid feature names, but LogisticRegression was fitted with feature names\n",
      "  warnings.warn(\n"
     ]
    },
    {
     "data": {
      "text/plain": [
       "array([0, 1, 1, 0, 0, 1, 0, 0, 1, 0, 1, 0, 1, 1, 0, 0, 0, 0, 0, 0, 1, 0,\n",
       "       1, 1, 0, 0, 0, 1, 0, 0, 0, 0, 0, 1, 0, 0, 0, 0, 1, 1, 1, 1, 0, 0,\n",
       "       0, 0, 0, 1, 0, 1, 0, 0, 0, 1, 1, 0, 0, 0, 0, 0, 0, 1, 0, 1, 0, 1,\n",
       "       0, 1, 1, 1, 1, 1, 0, 0, 0, 0, 0, 0, 0, 0, 0, 0, 0, 0, 0, 0, 1, 0,\n",
       "       0, 0, 0, 0, 1, 1, 0, 0, 1, 0, 1, 1, 0, 0, 0, 0, 0, 1, 0, 0, 0, 1,\n",
       "       0, 1, 0, 0, 1, 0, 0, 0, 1, 0, 0, 0, 0, 0, 0, 1, 0, 1, 0, 0, 0, 1,\n",
       "       0, 0, 0, 0, 0, 0, 0, 1, 0, 0, 1, 1, 0, 0, 0, 0, 1, 1, 0, 0, 0, 0],\n",
       "      dtype=int64)"
      ]
     },
     "execution_count": 32,
     "metadata": {},
     "output_type": "execute_result"
    }
   ],
   "source": [
    "predict = model.predict(x_test)\n",
    "predict"
   ]
  },
  {
   "cell_type": "code",
   "execution_count": 33,
   "metadata": {},
   "outputs": [
    {
     "data": {
      "text/plain": [
       "array([[86, 11],\n",
       "       [21, 36]], dtype=int64)"
      ]
     },
     "execution_count": 33,
     "metadata": {},
     "output_type": "execute_result"
    }
   ],
   "source": [
    "from sklearn import metrics\n",
    "metrics.confusion_matrix(y_test,predict)"
   ]
  },
  {
   "cell_type": "code",
   "execution_count": 34,
   "metadata": {},
   "outputs": [
    {
     "name": "stdout",
     "output_type": "stream",
     "text": [
      "Data ไม่เป็นโรคเบาหวาน : 97 คน | เป็นโรคเบาหวาน : 57 คน\n",
      "TN = เปรียบเทียบระหว่างข้อมูลจริงกับข้อมูลทำนายว่า ไม่เป็นโรคเบาหวาน 86 คน\n",
      "TP = เปรียบเทียบระหว่างข้อมูลจริงกับข้อมูลทำนายว่า เป็นโรคเบาหวาน 36 คน\n",
      "FN = ข้อมูลจริงเป็นโรคเบาหวานแต่โมเดลทำนายไม่เป็นเบาหวาน 21 คน\n",
      "FP = ข้อมูลจริงไม่เป็นโรคเบาหวานแต่โมเดลทำนายเป็นเบาหวาน 11 คน\n"
     ]
    },
    {
     "data": {
      "image/png": "[encoded data removed]",
      "text/plain": [
       "<Figure size 432x288 with 2 Axes>"
      ]
     },
     "metadata": {
      "needs_background": "light"
     },
     "output_type": "display_data"
    }
   ],
   "source": [
    "a , b = y_test.value_counts()\n",
    "print(f\"Data ไม่เป็นโรคเบาหวาน : {a} คน | เป็นโรคเบาหวาน : {b} คน\")\n",
    "cm = metrics.confusion_matrix(y_test,predict)\n",
    "TN ,FP ,FN ,TP = cm[0,0] , cm[0,1] , cm[1,0] , cm[1,1]\n",
    "print(f\"TN = เปรียบเทียบระหว่างข้อมูลจริงกับข้อมูลทำนายว่า ไม่เป็นโรคเบาหวาน {TN} คน\") #ยิ่งเข้าใกล้ข้อมูลทั้งหมดยิ่งดี\n",
    "print(f\"TP = เปรียบเทียบระหว่างข้อมูลจริงกับข้อมูลทำนายว่า เป็นโรคเบาหวาน {TP} คน\")  #ยิ่งเข้าใกล้ข้อมูลทั้งหมดยิ่งดี\n",
    "print(f\"FN = ข้อมูลจริงเป็นโรคเบาหวานแต่โมเดลทำนายไม่เป็นเบาหวาน {FN} คน\")  #ยิ่งน้อยยิ่งดี 0 คือดีเลย \n",
    "print(f\"FP = ข้อมูลจริงไม่เป็นโรคเบาหวานแต่โมเดลทำนายเป็นเบาหวาน {FP} คน\")  #ยิ่งน้อยยิ่งดี\n",
    "sns.heatmap(cm,annot=True,cmap=\"Blues\")\n",
    "plt.show()"
   ]
  },
  {
   "cell_type": "code",
   "execution_count": null,
   "metadata": {},
   "outputs": [],
   "source": [
    "\"\"\"\n",
    "z = data - mean / (std)\n",
    "\"\"\"\n",
    "n1 = (6 - df[\"Pregnancies\"].mean()) / (df[\"Pregnancies\"].std())\n",
    "n2 = (148.0 - df[\"Glucose\"].mean()) / (df[\"Glucose\"].std())\n",
    "n3 = (72.0 - df[\"BloodPressure\"].mean()) / (df[\"BloodPressure\"].std())\n",
    "n4 = (35.000000 - df[\"SkinThickness\"].mean()) / (df[\"SkinThickness\"].std())\n",
    "n5 = (79.799479 - df[\"Insulin\"].mean()) / (df[\"Insulin\"].std())\n",
    "n6 = (33.6\t - df[\"BMI\"].mean()) / (df[\"BMI\"].std())\n",
    "n7 = (0.627 - df[\"DiabetesPedigreeFunction\"].mean()) / (df[\"DiabetesPedigreeFunction\"].std())\n",
    "n8 = (50 - df[\"Age\"].mean()) / (df[\"Age\"].std())\n",
    "n = np.array([n1,n2,n3,n4,n5,n6,n7,n8])\n",
    "model.predict([n])\n"
   ]
  },
  {
   "cell_type": "code",
   "execution_count": null,
   "metadata": {},
   "outputs": [],
   "source": []
  }
 ],
 "metadata": {
  "interpreter": {
   "hash": "f60835e2dcb2fd40f230f6f478629fd9c9c9a8af47a702997acc14a585bdd038"
  },
  "kernelspec": {
   "display_name": "Python 3.9.5 64-bit",
   "language": "python",
   "name": "python3"
  },
  "language_info": {
   "codemirror_mode": {
    "name": "ipython",
    "version": 3
   },
   "file_extension": ".py",
   "mimetype": "text/x-python",
   "name": "python",
   "nbconvert_exporter": "python",
   "pygments_lexer": "ipython3",
   "version": "3.9.5 (tags/v3.9.5:0a7dcbd, May  3 2021, 17:27:52) [MSC v.1928 64 bit (AMD64)]"
  },
  "orig_nbformat": 4
 },
 "nbformat": 4,
 "nbformat_minor": 2
}
